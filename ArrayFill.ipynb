{
 "cells": [
  {
   "cell_type": "code",
   "execution_count": 10,
   "metadata": {},
   "outputs": [
    {
     "name": "stdout",
     "output_type": "stream",
     "text": [
      "[[1 2 2 1]\n",
      " [2 1 2 2]\n",
      " [1 2 2 2]\n",
      " [2 1 1 2]]\n",
      "after fill\n",
      "[[1 3 3 1]\n",
      " [2 1 3 3]\n",
      " [1 3 3 3]\n",
      " [2 1 1 3]]\n"
     ]
    }
   ],
   "source": [
    "import numpy as np\n",
    "def arrayfill(a,r,c,prev_fill,to_fill):\n",
    "    if r>len(a)-1 or c>len(a)-1 or r<0 or c<0:\n",
    "        return\n",
    "    if a[r][c] != prev_fill:\n",
    "        return\n",
    "        \n",
    "    else:\n",
    "        a[r][c] = to_fill\n",
    "        arrayfill(a,r+1,c,prev_fill,to_fill)\n",
    "        arrayfill(a,r-1,c,prev_fill,to_fill)\n",
    "        arrayfill(a,r,c+1,prev_fill,to_fill)\n",
    "        arrayfill(a,r,c-1,prev_fill,to_fill)\n",
    "arr=[[1,2,2,1],[2,1,2,2],[1,2,2,2],[2,1,1,2]]\n",
    "a=np.array(arr)\n",
    "r=1\n",
    "c=2\n",
    "prev_fill=2\n",
    "to_fill=3\n",
    "print(a)\n",
    "print(\"after fill\")\n",
    "arrayfill(a,r,c,prev_fill,to_fill)\n",
    "print(a)"
   ]
  },
  {
   "cell_type": "code",
   "execution_count": null,
   "metadata": {},
   "outputs": [],
   "source": []
  }
 ],
 "metadata": {
  "kernelspec": {
   "display_name": "Python 3",
   "language": "python",
   "name": "python3"
  },
  "language_info": {
   "codemirror_mode": {
    "name": "ipython",
    "version": 3
   },
   "file_extension": ".py",
   "mimetype": "text/x-python",
   "name": "python",
   "nbconvert_exporter": "python",
   "pygments_lexer": "ipython3",
   "version": "3.8.3"
  }
 },
 "nbformat": 4,
 "nbformat_minor": 4
}
